{
 "cells": [
  {
   "cell_type": "code",
   "execution_count": 11,
   "id": "61b336c5-973f-4f70-a5fb-42e613819c02",
   "metadata": {},
   "outputs": [
    {
     "name": "stdout",
     "output_type": "stream",
     "text": [
      "Top 3 Cuisines:\n",
      "North Indian: 3960\n",
      "Chinese: 2735\n",
      "Fast Food: 1986\n"
     ]
    }
   ],
   "source": [
    "import pandas as pd\n",
    "from collections import Counter\n",
    "\n",
    "# Load the dataset\n",
    "df = pd.read_csv(\"datasetproject.csv\")\n",
    "\n",
    "# Fill missing values in the 'Cuisines' column\n",
    "df['Cuisines'] = df['Cuisines'].fillna('Unknown')\n",
    "\n",
    "# Split cuisines and count frequencies\n",
    "all_cuisines = df['Cuisines'].str.split(', ')\n",
    "cuisine_counts = Counter([cuisine for sublist in all_cuisines for cuisine in sublist])\n",
    "\n",
    "# Get the top 3 cuisines\n",
    "top_3_cuisines = cuisine_counts.most_common(3)\n",
    "\n",
    "print(\"Top 3 Cuisines:\")\n",
    "for cuisine, count in top_3_cuisines:\n",
    "    print(f\"{cuisine}: {count}\")\n"
   ]
  },
  {
   "cell_type": "code",
   "execution_count": 12,
   "id": "d6ae7751-f59f-4f1e-b9da-6bbe4d1854f6",
   "metadata": {},
   "outputs": [
    {
     "name": "stdout",
     "output_type": "stream",
     "text": [
      "City with the highest number of restaurants: New Delhi (5473 restaurants)\n"
     ]
    }
   ],
   "source": [
    "import pandas as pd\n",
    "\n",
    "# Load the dataset\n",
    "df = pd.read_csv(\"datasetproject.csv\")\n",
    "\n",
    "# Count the number of restaurants per city\n",
    "city_counts = df['City'].value_counts()\n",
    "\n",
    "# Get the city with the highest number of restaurants\n",
    "top_city = city_counts.idxmax()\n",
    "top_city_count = city_counts.max()\n",
    "\n",
    "print(f\"City with the highest number of restaurants: {top_city} ({top_city_count} restaurants)\")\n"
   ]
  },
  {
   "cell_type": "code",
   "execution_count": 13,
   "id": "b4e48e34-0813-4835-a75a-6cb95915f3ae",
   "metadata": {},
   "outputs": [
    {
     "name": "stdout",
     "output_type": "stream",
     "text": [
      "Percentage of restaurants serving top cuisines: 64.74%\n"
     ]
    }
   ],
   "source": [
    "import pandas as pd\n",
    "from collections import Counter\n",
    "\n",
    "# Load the dataset\n",
    "df = pd.read_csv(\"datasetproject.csv\")\n",
    "\n",
    "# Handle missing values in 'Cuisines'\n",
    "df['Cuisines'] = df['Cuisines'].fillna('Unknown')\n",
    "\n",
    "# Split and count all cuisines\n",
    "all_cuisines = df['Cuisines'].str.split(', ')\n",
    "cuisine_counts = Counter([cuisine for sublist in all_cuisines for cuisine in sublist])\n",
    "\n",
    "# Get top 3 cuisines\n",
    "top_3 = [cuisine for cuisine, count in cuisine_counts.most_common(3)]\n",
    "\n",
    "# Check how many restaurants serve at least one of the top 3 cuisines\n",
    "is_top_cuisine = df['Cuisines'].apply(lambda x: any(cuisine in x for cuisine in top_3))\n",
    "percentage_top_cuisine = (is_top_cuisine.sum() / len(df)) * 100\n",
    "\n",
    "print(f\"Percentage of restaurants serving top cuisines: {percentage_top_cuisine:.2f}%\")\n"
   ]
  },
  {
   "cell_type": "code",
   "execution_count": 14,
   "id": "c7773a3b-765e-4151-a1b1-832297a7e031",
   "metadata": {},
   "outputs": [
    {
     "name": "stdout",
     "output_type": "stream",
     "text": [
      "City\n",
      "Abu Dhabi          4.300000\n",
      "Agra               3.965000\n",
      "Ahmedabad          4.161905\n",
      "Albany             3.555000\n",
      "Allahabad          3.395000\n",
      "                     ...   \n",
      "Weirton            3.900000\n",
      "Wellington City    4.250000\n",
      "Winchester Bay     3.200000\n",
      "Yorkton            3.300000\n",
      "��stanbul          4.292857\n",
      "Name: Aggregate rating, Length: 141, dtype: float64\n"
     ]
    }
   ],
   "source": [
    "# Average rating per city\n",
    "avg_rating_per_city = df.groupby('City')['Aggregate rating'].mean()\n",
    "print(avg_rating_per_city)\n"
   ]
  },
  {
   "cell_type": "code",
   "execution_count": 15,
   "id": "ddce4530-74df-4b62-a023-c0b2fc52efe2",
   "metadata": {},
   "outputs": [
    {
     "name": "stdout",
     "output_type": "stream",
     "text": [
      "City with highest average rating: Inner City (4.90)\n"
     ]
    }
   ],
   "source": [
    "top_avg_rating_city = avg_rating_per_city.idxmax()\n",
    "top_avg_rating = avg_rating_per_city.max()\n",
    "print(f\"City with highest average rating: {top_avg_rating_city} ({top_avg_rating:.2f})\")\n"
   ]
  },
  {
   "cell_type": "code",
   "execution_count": 16,
   "id": "a1fd60ad-3ac2-4426-9d02-abaab7774515",
   "metadata": {},
   "outputs": [
    {
     "name": "stderr",
     "output_type": "stream",
     "text": [
      "Matplotlib is building the font cache; this may take a moment.\n"
     ]
    },
    {
     "data": {
      "image/png": "[encoded data removed]",
      "text/plain": [
       "<Figure size 640x480 with 1 Axes>"
      ]
     },
     "metadata": {},
     "output_type": "display_data"
    }
   ],
   "source": [
    "import seaborn as sns\n",
    "import matplotlib.pyplot as plt\n",
    "\n",
    "sns.countplot(x='Price range', data=df)\n",
    "plt.title('Price Range Distribution')\n",
    "plt.xlabel('Price Range')\n",
    "plt.ylabel('Number of Restaurants')\n",
    "plt.show()\n"
   ]
  },
  {
   "cell_type": "code",
   "execution_count": 17,
   "id": "e203ac15-8bf5-42e7-9f40-12bbc61b29bf",
   "metadata": {},
   "outputs": [
    {
     "name": "stdout",
     "output_type": "stream",
     "text": [
      "Price range\n",
      "1    46.529159\n",
      "2    32.593446\n",
      "3    14.741912\n",
      "4     6.135483\n",
      "Name: proportion, dtype: float64\n"
     ]
    }
   ],
   "source": [
    "price_percent = df['Price range'].value_counts(normalize=True) * 100\n",
    "print(price_percent)\n"
   ]
  },
  {
   "cell_type": "code",
   "execution_count": 18,
   "id": "7c7f9a27-232a-4c58-ad9d-d4e2cd1fd7bb",
   "metadata": {},
   "outputs": [
    {
     "name": "stdout",
     "output_type": "stream",
     "text": [
      "Percentage offering online delivery: 25.66%\n"
     ]
    }
   ],
   "source": [
    "df['Has Online delivery'] = df['Has Online delivery'].map({'Yes': 1, 'No': 0})\n",
    "online_delivery_percent = df['Has Online delivery'].mean() * 100\n",
    "print(f\"Percentage offering online delivery: {online_delivery_percent:.2f}%\")\n"
   ]
  },
  {
   "cell_type": "code",
   "execution_count": 19,
   "id": "4ba75545-c908-436f-a2a5-fa489dc8fb12",
   "metadata": {},
   "outputs": [
    {
     "name": "stdout",
     "output_type": "stream",
     "text": [
      "Has Online delivery\n",
      "0    2.465296\n",
      "1    3.248837\n",
      "Name: Aggregate rating, dtype: float64\n"
     ]
    }
   ],
   "source": [
    "avg_rating_delivery = df.groupby('Has Online delivery')['Aggregate rating'].mean()\n",
    "print(avg_rating_delivery)\n"
   ]
  },
  {
   "cell_type": "code",
   "execution_count": 20,
   "id": "7ae43664-4e0e-46c0-a70f-ddc2688fc3c1",
   "metadata": {},
   "outputs": [
    {
     "name": "stdout",
     "output_type": "stream",
     "text": [
      "Rating distribution:\n",
      " Rating Range\n",
      "0–1    2148\n",
      "1–2       3\n",
      "2–3    1430\n",
      "3–4    4590\n",
      "4–5    1380\n",
      "Name: count, dtype: int64\n",
      "Most common rating range: 3–4\n"
     ]
    }
   ],
   "source": [
    "bins = [0, 1, 2, 3, 4, 5]\n",
    "labels = ['0–1', '1–2', '2–3', '3–4', '4–5']\n",
    "df['Rating Range'] = pd.cut(df['Aggregate rating'], bins=bins, labels=labels, right=False)\n",
    "rating_dist = df['Rating Range'].value_counts().sort_index()\n",
    "print(\"Rating distribution:\\n\", rating_dist)\n",
    "print(\"Most common rating range:\", rating_dist.idxmax())\n"
   ]
  },
  {
   "cell_type": "code",
   "execution_count": 21,
   "id": "0472134c-f02c-4b46-b15e-16f9fc503da8",
   "metadata": {},
   "outputs": [
    {
     "name": "stdout",
     "output_type": "stream",
     "text": [
      "Average number of votes: 156.91\n"
     ]
    }
   ],
   "source": [
    "avg_votes = df['Votes'].mean()\n",
    "print(f\"Average number of votes: {avg_votes:.2f}\")\n"
   ]
  },
  {
   "cell_type": "code",
   "execution_count": 22,
   "id": "d7c4b551-a7e6-47b2-92f6-e59d456fed94",
   "metadata": {},
   "outputs": [
    {
     "name": "stdout",
     "output_type": "stream",
     "text": [
      "Most common cuisine combination: North Indian\n"
     ]
    }
   ],
   "source": [
    "most_common_combo = df['Cuisines'].value_counts().idxmax()\n",
    "print(\"Most common cuisine combination:\", most_common_combo)\n"
   ]
  },
  {
   "cell_type": "code",
   "execution_count": 23,
   "id": "0a7f18a9-e50f-4260-a488-22daaaa47bfe",
   "metadata": {},
   "outputs": [
    {
     "name": "stdout",
     "output_type": "stream",
     "text": [
      "Top-rated cuisine combinations:\n",
      " Cuisines\n",
      "American, Coffee and Tea           4.9\n",
      "American, Caribbean, Seafood       4.9\n",
      "BBQ, Breakfast, Southern           4.9\n",
      "European, Asian, Indian            4.9\n",
      "American, Sandwich, Tea            4.9\n",
      "Burger, Bar Food, Steak            4.9\n",
      "Mughlai, Lucknowi                  4.9\n",
      "Mexican, American, Healthy Food    4.9\n",
      "Italian, Deli                      4.9\n",
      "Continental, Indian                4.9\n",
      "Name: Aggregate rating, dtype: float64\n"
     ]
    }
   ],
   "source": [
    "top_cuisine_ratings = df.groupby('Cuisines')['Aggregate rating'].mean().sort_values(ascending=False).head(10)\n",
    "print(\"Top-rated cuisine combinations:\\n\", top_cuisine_ratings)\n"
   ]
  },
  {
   "cell_type": "code",
   "execution_count": null,
   "id": "fd559979-1bb2-4a0f-bde7-fa3d5811ff29",
   "metadata": {},
   "outputs": [],
   "source": []
  }
 ],
 "metadata": {
  "kernelspec": {
   "display_name": "anaconda-2024.02-py310",
   "language": "python",
   "name": "conda-env-anaconda-2024.02-py310-py"
  },
  "language_info": {
   "codemirror_mode": {
    "name": "ipython",
    "version": 3
   },
   "file_extension": ".py",
   "mimetype": "text/x-python",
   "name": "python",
   "nbconvert_exporter": "python",
   "pygments_lexer": "ipython3",
   "version": "3.10.14"
  }
 },
 "nbformat": 4,
 "nbformat_minor": 5
}
